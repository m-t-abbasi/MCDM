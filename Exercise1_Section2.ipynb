{
 "cells": [
  {
   "cell_type": "code",
   "execution_count": 1,
   "metadata": {},
   "outputs": [],
   "source": [
    "import numpy as np\n",
    "import pandas as pd"
   ]
  },
  {
   "cell_type": "markdown",
   "metadata": {},
   "source": [
    "# Number of criteria"
   ]
  },
  {
   "cell_type": "code",
   "execution_count": 2,
   "metadata": {},
   "outputs": [],
   "source": [
    "n = 6"
   ]
  },
  {
   "cell_type": "markdown",
   "metadata": {},
   "source": [
    "# Creating default matrix of ones"
   ]
  },
  {
   "cell_type": "code",
   "execution_count": 3,
   "metadata": {},
   "outputs": [],
   "source": [
    "A = np.ones([n,n])"
   ]
  },
  {
   "cell_type": "markdown",
   "metadata": {},
   "source": [
    "# Running a for loop to take input from user and populate the upper triangular elements"
   ]
  },
  {
   "cell_type": "code",
   "execution_count": 4,
   "metadata": {},
   "outputs": [
    {
     "name": "stdout",
     "output_type": "stream",
     "text": [
      "How important is criteria0 over criteria1 ?: 2\n",
      "How important is criteria0 over criteria2 ?: 3\n",
      "How important is criteria0 over criteria3 ?: 4\n",
      "How important is criteria0 over criteria4 ?: 5\n",
      "How important is criteria0 over criteria5 ?: 6\n",
      "How important is criteria1 over criteria2 ?: 2\n",
      "How important is criteria1 over criteria3 ?: 3\n",
      "How important is criteria1 over criteria4 ?: 4\n",
      "How important is criteria1 over criteria5 ?: 5\n",
      "How important is criteria2 over criteria3 ?: 2\n",
      "How important is criteria2 over criteria4 ?: 3\n",
      "How important is criteria2 over criteria5 ?: 4\n",
      "How important is criteria3 over criteria4 ?: 2\n",
      "How important is criteria3 over criteria5 ?: 3\n",
      "How important is criteria4 over criteria5 ?: 2\n"
     ]
    }
   ],
   "source": [
    "for i in range(0,n):\n",
    "    for j in range(0,n):\n",
    "         if i<j:\n",
    "             aij = input('How important is criteria{} over criteria{} ?: '.format(i,j))\n",
    "             A[i,j] = float(aij) #Upper triangular elements\n",
    "             A[j,i] = 1/float(aij) #Lower triangular elements"
   ]
  },
  {
   "cell_type": "markdown",
   "metadata": {},
   "source": [
    "# Once the matrix is generated, we compute the priority vector by normalizing the eigen vector of the largest eigen value. The elements in this eigen vector are the weights of the criteria."
   ]
  },
  {
   "cell_type": "code",
   "execution_count": 5,
   "metadata": {},
   "outputs": [
    {
     "data": {
      "text/plain": [
       "array([0.38249747-0.j, 0.25040175-0.j, 0.15958026-0.j, 0.10063029-0.j,\n",
       "       0.0640774 -0.j, 0.04281282-0.j])"
      ]
     },
     "execution_count": 5,
     "metadata": {},
     "output_type": "execute_result"
    }
   ],
   "source": [
    "e = np.linalg.eig(A)[1][:,0]\n",
    "p = e/e.sum()\n",
    "p"
   ]
  },
  {
   "cell_type": "code",
   "execution_count": null,
   "metadata": {},
   "outputs": [],
   "source": []
  }
 ],
 "metadata": {
  "kernelspec": {
   "display_name": "Python 3",
   "language": "python",
   "name": "python3"
  },
  "language_info": {
   "codemirror_mode": {
    "name": "ipython",
    "version": 3
   },
   "file_extension": ".py",
   "mimetype": "text/x-python",
   "name": "python",
   "nbconvert_exporter": "python",
   "pygments_lexer": "ipython3",
   "version": "3.7.1"
  }
 },
 "nbformat": 4,
 "nbformat_minor": 2
}
